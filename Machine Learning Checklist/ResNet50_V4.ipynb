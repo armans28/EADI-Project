{
  "cells": [
    {
      "cell_type": "markdown",
      "metadata": {
        "id": "yX-FVUoyituI"
      },
      "source": [
        "**BANGKIT MACHINE LEARNING AUTISM DETECTION**\n"
      ]
    },
    {
      "cell_type": "code",
      "execution_count": 1,
      "metadata": {
        "colab": {
          "base_uri": "https://localhost:8080/"
        },
        "id": "J__oSIy7eUro",
        "outputId": "936d20e5-a383-4774-8f86-b385e2025aed"
      },
      "outputs": [
        {
          "output_type": "stream",
          "name": "stdout",
          "text": [
            "Mon Jun 12 15:28:01 2023       \n",
            "+-----------------------------------------------------------------------------+\n",
            "| NVIDIA-SMI 525.85.12    Driver Version: 525.85.12    CUDA Version: 12.0     |\n",
            "|-------------------------------+----------------------+----------------------+\n",
            "| GPU  Name        Persistence-M| Bus-Id        Disp.A | Volatile Uncorr. ECC |\n",
            "| Fan  Temp  Perf  Pwr:Usage/Cap|         Memory-Usage | GPU-Util  Compute M. |\n",
            "|                               |                      |               MIG M. |\n",
            "|===============================+======================+======================|\n",
            "|   0  Tesla T4            Off  | 00000000:00:04.0 Off |                    0 |\n",
            "| N/A   66C    P8    11W /  70W |      0MiB / 15360MiB |      0%      Default |\n",
            "|                               |                      |                  N/A |\n",
            "+-------------------------------+----------------------+----------------------+\n",
            "                                                                               \n",
            "+-----------------------------------------------------------------------------+\n",
            "| Processes:                                                                  |\n",
            "|  GPU   GI   CI        PID   Type   Process name                  GPU Memory |\n",
            "|        ID   ID                                                   Usage      |\n",
            "|=============================================================================|\n",
            "|  No running processes found                                                 |\n",
            "+-----------------------------------------------------------------------------+\n"
          ]
        }
      ],
      "source": [
        "!nvidia-smi"
      ]
    },
    {
      "cell_type": "code",
      "execution_count": 2,
      "metadata": {
        "id": "vyskQ8HpcXJS"
      },
      "outputs": [],
      "source": [
        "import numpy as np\n",
        "import pandas as pd\n",
        "import os\n",
        "import random\n",
        "import time\n",
        "import cv2\n",
        "from sklearn.metrics import confusion_matrix, classification_report\n",
        "import tensorflow as tf\n",
        "from tensorflow import keras\n",
        "from tensorflow.keras.preprocessing.image import ImageDataGenerator\n",
        "from tensorflow.keras.layers import Dense, Activation, Dropout, Conv2D, MaxPooling2D, BatchNormalization, GlobalAveragePooling2D, Flatten\n",
        "from tensorflow.keras.optimizers import RMSprop, Adam, SGD\n",
        "from tensorflow.keras.metrics import categorical_crossentropy\n",
        "from tensorflow.keras.models import Sequential\n",
        "from tensorflow.keras import backend as K\n"
      ]
    },
    {
      "cell_type": "code",
      "execution_count": 53,
      "metadata": {
        "id": "f6QGtDha3Mbw",
        "colab": {
          "base_uri": "https://localhost:8080/"
        },
        "outputId": "3b32fd78-3906-4e6b-de5c-7a3a182063b3"
      },
      "outputs": [
        {
          "output_type": "stream",
          "name": "stdout",
          "text": [
            "Drive already mounted at /content/drive; to attempt to forcibly remount, call drive.mount(\"/content/drive\", force_remount=True).\n"
          ]
        }
      ],
      "source": [
        "from google.colab import drive\n",
        "drive.mount('/content/drive')"
      ]
    },
    {
      "cell_type": "markdown",
      "metadata": {
        "id": "wi-VyUFch1bx"
      },
      "source": [
        " **PRE-PROCESSING DATA**"
      ]
    },
    {
      "cell_type": "code",
      "execution_count": 4,
      "metadata": {
        "id": "N-6r6gJCcriq"
      },
      "outputs": [],
      "source": [
        "TRAINING_DIR = \"/content/drive/MyDrive/BANGKITcapstone/autism/train\"\n",
        "VALIDATION_DIR = \"/content/drive/MyDrive/BANGKITcapstone/autism/valid\"\n",
        "TESTING_DIR = \"/content/drive/MyDrive/BANGKITcapstone/autism/test\""
      ]
    },
    {
      "cell_type": "code",
      "execution_count": 13,
      "metadata": {
        "id": "1WNzLIAn4UwW"
      },
      "outputs": [],
      "source": [
        "def train_val_generators(TRAINING_DIR, VALIDATION_DIR, TESTING_DIR):\n",
        "\n",
        "    # Instantiate the ImageDataGenerator class\n",
        "    train_datagen = ImageDataGenerator(rescale=1./255.,\n",
        "                                       rotation_range=40,\n",
        "                                       width_shift_range=0.2,\n",
        "                                       height_shift_range=0.2,\n",
        "                                       shear_range=0.2,\n",
        "                                       zoom_range=0.2,\n",
        "                                       horizontal_flip=True,\n",
        "                                       fill_mode='nearest')\n",
        "\n",
        "    # Pass in the appropriate arguments to the flow_from_directory method\n",
        "    train_generator = train_datagen.flow_from_directory(directory=TRAINING_DIR,\n",
        "                                                        batch_size=32,\n",
        "                                                        class_mode='categorical',\n",
        "                                                        color_mode='rgb',\n",
        "                                                        shuffle=True,\n",
        "                                                        target_size=(224, 224))\n",
        "\n",
        "    # Instantiate the ImageDataGenerator class \n",
        "    validation_datagen = ImageDataGenerator(rescale=1./255.)\n",
        "\n",
        "    # Pass in the appropriate arguments to the flow_from_directory method\n",
        "    validation_generator = validation_datagen.flow_from_directory(directory=VALIDATION_DIR,\n",
        "                                                                  batch_size=32,                          \n",
        "                                                                  class_mode='categorical',\n",
        "                                                                  color_mode='rgb',\n",
        "                                                                  shuffle=False,\n",
        "                                                                  target_size=(224, 224))\n",
        "    # Instantiate the ImageDataGenerator class \n",
        "    testing_datagen = ImageDataGenerator(rescale=1./255.)\n",
        "\n",
        "    # Pass in the appropriate arguments to the flow_from_directory method\n",
        "    testing_generator = testing_datagen.flow_from_directory(directory=TESTING_DIR,\n",
        "                                                            batch_size=32,\n",
        "                                                            class_mode='categorical',\n",
        "                                                            color_mode='rgb',\n",
        "                                                            shuffle=False,\n",
        "                                                            target_size=(224, 224))\n",
        "\n",
        "    return train_generator, validation_generator, testing_generator\n"
      ]
    },
    {
      "cell_type": "code",
      "execution_count": 14,
      "metadata": {
        "id": "n2RnK-WFcYe5",
        "colab": {
          "base_uri": "https://localhost:8080/"
        },
        "outputId": "cae2059b-f2fd-4b98-c038-e12c246acbba"
      },
      "outputs": [
        {
          "output_type": "stream",
          "name": "stdout",
          "text": [
            "Found 2526 images belonging to 2 classes.\n",
            "Found 200 images belonging to 2 classes.\n",
            "Found 200 images belonging to 2 classes.\n"
          ]
        }
      ],
      "source": [
        "# Test your generators\n",
        "train_generator, validation_generator, testing_generator = train_val_generators(TRAINING_DIR, VALIDATION_DIR, TESTING_DIR)"
      ]
    },
    {
      "cell_type": "markdown",
      "metadata": {
        "id": "bs3lX8e_Y3Xc"
      },
      "source": [
        "**TESTING TRANSFER LEARNING**"
      ]
    },
    {
      "cell_type": "code",
      "execution_count": 15,
      "metadata": {
        "id": "QWoV_5mjRDwQ"
      },
      "outputs": [],
      "source": [
        "from tensorflow.keras.applications import ResNet50\n",
        "\n",
        "def new_model():\n",
        "    base_model = ResNet50(weights='imagenet', include_top=False, input_shape=(224, 224, 3))\n",
        "    for layer in base_model.layers:\n",
        "        layer.trainable = True\n",
        "\n",
        "    model = tf.keras.models.Sequential([\n",
        "        base_model,\n",
        "        tf.keras.layers.GlobalAveragePooling2D(),\n",
        "        tf.keras.layers.Dense(256, activation='relu'),\n",
        "        tf.keras.layers.Dropout(0.5),\n",
        "        tf.keras.layers.Dense(2, activation='softmax')\n",
        "    ])\n",
        "\n",
        "    model.compile(optimizer=tf.keras.optimizers.Adam(learning_rate=0.002),\n",
        "                  loss='binary_crossentropy',\n",
        "                  metrics=['accuracy'])\n",
        "    return model\n"
      ]
    },
    {
      "cell_type": "code",
      "execution_count": 16,
      "metadata": {
        "id": "yOiw2wzBKuEG",
        "colab": {
          "base_uri": "https://localhost:8080/"
        },
        "outputId": "db9fc7ff-7626-48fc-d66a-27034c418939"
      },
      "outputs": [
        {
          "output_type": "stream",
          "name": "stdout",
          "text": [
            "Model: \"sequential_2\"\n",
            "_________________________________________________________________\n",
            " Layer (type)                Output Shape              Param #   \n",
            "=================================================================\n",
            " resnet50 (Functional)       (None, 7, 7, 2048)        23587712  \n",
            "                                                                 \n",
            " global_average_pooling2d_2   (None, 2048)             0         \n",
            " (GlobalAveragePooling2D)                                        \n",
            "                                                                 \n",
            " dense_4 (Dense)             (None, 256)               524544    \n",
            "                                                                 \n",
            " dropout_2 (Dropout)         (None, 256)               0         \n",
            "                                                                 \n",
            " dense_5 (Dense)             (None, 2)                 514       \n",
            "                                                                 \n",
            "=================================================================\n",
            "Total params: 24,112,770\n",
            "Trainable params: 24,059,650\n",
            "Non-trainable params: 53,120\n",
            "_________________________________________________________________\n"
          ]
        }
      ],
      "source": [
        "model = new_model()\n",
        "model.summary()"
      ]
    },
    {
      "cell_type": "code",
      "execution_count": 17,
      "metadata": {
        "id": "Dp2qzegKmOrn"
      },
      "outputs": [],
      "source": [
        "from keras.callbacks import ModelCheckpoint, EarlyStopping\n",
        "es=EarlyStopping(monitor='val_accuracy', mode='max', verbose=1, patience=15)"
      ]
    },
    {
      "cell_type": "code",
      "execution_count": 18,
      "metadata": {
        "id": "pR3TUds8mgSz"
      },
      "outputs": [],
      "source": [
        "mc = ModelCheckpoint('best_model.h5', monitor='val_accuracy', mode='max', save_best_only=True)"
      ]
    },
    {
      "cell_type": "code",
      "execution_count": 19,
      "metadata": {
        "id": "ZkkPgudgmOzz"
      },
      "outputs": [],
      "source": [
        "lr_scheduler = tf.keras.callbacks.LearningRateScheduler(lambda epoch: 1e-4 * 0.9 ** epoch)"
      ]
    },
    {
      "cell_type": "markdown",
      "metadata": {
        "id": "BKQnuAT1iOCc"
      },
      "source": [
        "**TRAIN THE MODEL**"
      ]
    },
    {
      "cell_type": "code",
      "execution_count": 20,
      "metadata": {
        "colab": {
          "base_uri": "https://localhost:8080/"
        },
        "id": "WwIQ-ndNfb6_",
        "outputId": "d11fbdc5-72f1-4726-f6bf-130631535d06"
      },
      "outputs": [
        {
          "output_type": "stream",
          "name": "stdout",
          "text": [
            "Epoch 1/100\n",
            "79/79 [==============================] - 551s 6s/step - loss: 0.5439 - accuracy: 0.7367 - val_loss: 0.6994 - val_accuracy: 0.5000 - lr: 1.0000e-04\n",
            "Epoch 2/100\n",
            "79/79 [==============================] - 52s 656ms/step - loss: 0.4160 - accuracy: 0.8124 - val_loss: 0.8773 - val_accuracy: 0.5000 - lr: 9.0000e-05\n",
            "Epoch 3/100\n",
            "79/79 [==============================] - 51s 644ms/step - loss: 0.3532 - accuracy: 0.8393 - val_loss: 1.2731 - val_accuracy: 0.5000 - lr: 8.1000e-05\n",
            "Epoch 4/100\n",
            "79/79 [==============================] - 51s 648ms/step - loss: 0.3056 - accuracy: 0.8753 - val_loss: 1.5761 - val_accuracy: 0.5000 - lr: 7.2900e-05\n",
            "Epoch 5/100\n",
            "79/79 [==============================] - 51s 646ms/step - loss: 0.2775 - accuracy: 0.8856 - val_loss: 1.5274 - val_accuracy: 0.5000 - lr: 6.5610e-05\n",
            "Epoch 6/100\n",
            "79/79 [==============================] - 51s 642ms/step - loss: 0.2458 - accuracy: 0.9010 - val_loss: 1.0036 - val_accuracy: 0.5000 - lr: 5.9049e-05\n",
            "Epoch 7/100\n",
            "79/79 [==============================] - 53s 663ms/step - loss: 0.2181 - accuracy: 0.9173 - val_loss: 0.7225 - val_accuracy: 0.5750 - lr: 5.3144e-05\n",
            "Epoch 8/100\n",
            "79/79 [==============================] - 50s 633ms/step - loss: 0.1990 - accuracy: 0.9240 - val_loss: 2.5916 - val_accuracy: 0.5000 - lr: 4.7830e-05\n",
            "Epoch 9/100\n",
            "79/79 [==============================] - 51s 641ms/step - loss: 0.1565 - accuracy: 0.9410 - val_loss: 1.8024 - val_accuracy: 0.5750 - lr: 4.3047e-05\n",
            "Epoch 10/100\n",
            "79/79 [==============================] - 52s 658ms/step - loss: 0.1551 - accuracy: 0.9446 - val_loss: 1.8488 - val_accuracy: 0.6250 - lr: 3.8742e-05\n",
            "Epoch 11/100\n",
            "79/79 [==============================] - 52s 661ms/step - loss: 0.1115 - accuracy: 0.9632 - val_loss: 1.0157 - val_accuracy: 0.7450 - lr: 3.4868e-05\n",
            "Epoch 12/100\n",
            "79/79 [==============================] - 54s 677ms/step - loss: 0.1097 - accuracy: 0.9596 - val_loss: 0.6061 - val_accuracy: 0.8150 - lr: 3.1381e-05\n",
            "Epoch 13/100\n",
            "79/79 [==============================] - 51s 645ms/step - loss: 0.0916 - accuracy: 0.9660 - val_loss: 0.5170 - val_accuracy: 0.8250 - lr: 2.8243e-05\n",
            "Epoch 14/100\n",
            "79/79 [==============================] - 52s 653ms/step - loss: 0.0748 - accuracy: 0.9723 - val_loss: 0.5916 - val_accuracy: 0.8350 - lr: 2.5419e-05\n",
            "Epoch 15/100\n",
            "79/79 [==============================] - 52s 662ms/step - loss: 0.0802 - accuracy: 0.9727 - val_loss: 0.5326 - val_accuracy: 0.8550 - lr: 2.2877e-05\n",
            "Epoch 16/100\n",
            "79/79 [==============================] - 52s 651ms/step - loss: 0.0648 - accuracy: 0.9743 - val_loss: 0.5451 - val_accuracy: 0.8550 - lr: 2.0589e-05\n",
            "Epoch 17/100\n",
            "79/79 [==============================] - 50s 634ms/step - loss: 0.0576 - accuracy: 0.9810 - val_loss: 0.5752 - val_accuracy: 0.8550 - lr: 1.8530e-05\n",
            "Epoch 18/100\n",
            "79/79 [==============================] - 53s 675ms/step - loss: 0.0520 - accuracy: 0.9798 - val_loss: 0.6112 - val_accuracy: 0.8600 - lr: 1.6677e-05\n",
            "Epoch 19/100\n",
            "79/79 [==============================] - 51s 641ms/step - loss: 0.0585 - accuracy: 0.9786 - val_loss: 0.5907 - val_accuracy: 0.8550 - lr: 1.5009e-05\n",
            "Epoch 20/100\n",
            "79/79 [==============================] - 53s 667ms/step - loss: 0.0493 - accuracy: 0.9810 - val_loss: 0.4974 - val_accuracy: 0.8900 - lr: 1.3509e-05\n",
            "Epoch 21/100\n",
            "79/79 [==============================] - 51s 644ms/step - loss: 0.0564 - accuracy: 0.9782 - val_loss: 0.6635 - val_accuracy: 0.8550 - lr: 1.2158e-05\n",
            "Epoch 22/100\n",
            "79/79 [==============================] - 51s 641ms/step - loss: 0.0506 - accuracy: 0.9790 - val_loss: 0.5338 - val_accuracy: 0.8500 - lr: 1.0942e-05\n",
            "Epoch 23/100\n",
            "79/79 [==============================] - 52s 663ms/step - loss: 0.0456 - accuracy: 0.9842 - val_loss: 0.4971 - val_accuracy: 0.8850 - lr: 9.8477e-06\n",
            "Epoch 24/100\n",
            "79/79 [==============================] - 50s 625ms/step - loss: 0.0374 - accuracy: 0.9865 - val_loss: 0.6322 - val_accuracy: 0.8600 - lr: 8.8629e-06\n",
            "Epoch 25/100\n",
            "79/79 [==============================] - 51s 639ms/step - loss: 0.0401 - accuracy: 0.9854 - val_loss: 0.6020 - val_accuracy: 0.8650 - lr: 7.9766e-06\n",
            "Epoch 26/100\n",
            "79/79 [==============================] - 51s 646ms/step - loss: 0.0363 - accuracy: 0.9877 - val_loss: 0.6670 - val_accuracy: 0.8650 - lr: 7.1790e-06\n",
            "Epoch 27/100\n",
            "79/79 [==============================] - 50s 625ms/step - loss: 0.0319 - accuracy: 0.9905 - val_loss: 0.6388 - val_accuracy: 0.8600 - lr: 6.4611e-06\n",
            "Epoch 28/100\n",
            "79/79 [==============================] - 51s 641ms/step - loss: 0.0317 - accuracy: 0.9905 - val_loss: 0.6491 - val_accuracy: 0.8550 - lr: 5.8150e-06\n",
            "Epoch 29/100\n",
            "79/79 [==============================] - 51s 635ms/step - loss: 0.0325 - accuracy: 0.9885 - val_loss: 0.6836 - val_accuracy: 0.8600 - lr: 5.2335e-06\n",
            "Epoch 30/100\n",
            "79/79 [==============================] - 51s 643ms/step - loss: 0.0246 - accuracy: 0.9937 - val_loss: 0.6515 - val_accuracy: 0.8650 - lr: 4.7101e-06\n",
            "Epoch 31/100\n",
            "79/79 [==============================] - 50s 631ms/step - loss: 0.0263 - accuracy: 0.9917 - val_loss: 0.6874 - val_accuracy: 0.8500 - lr: 4.2391e-06\n",
            "Epoch 32/100\n",
            "79/79 [==============================] - 51s 641ms/step - loss: 0.0446 - accuracy: 0.9850 - val_loss: 0.6277 - val_accuracy: 0.8600 - lr: 3.8152e-06\n",
            "Epoch 33/100\n",
            "79/79 [==============================] - 51s 638ms/step - loss: 0.0257 - accuracy: 0.9921 - val_loss: 0.5497 - val_accuracy: 0.8750 - lr: 3.4337e-06\n",
            "Epoch 34/100\n",
            "79/79 [==============================] - 52s 659ms/step - loss: 0.0234 - accuracy: 0.9925 - val_loss: 0.5444 - val_accuracy: 0.8800 - lr: 3.0903e-06\n",
            "Epoch 35/100\n",
            "79/79 [==============================] - 51s 640ms/step - loss: 0.0201 - accuracy: 0.9941 - val_loss: 0.5806 - val_accuracy: 0.8750 - lr: 2.7813e-06\n",
            "Epoch 35: early stopping\n"
          ]
        }
      ],
      "source": [
        "model = new_model()\n",
        "\n",
        "# Train the model\n",
        "\n",
        "history = model.fit(train_generator,\n",
        "                    epochs=100,\n",
        "                    verbose=1,\n",
        "                    validation_data=validation_generator,\n",
        "                    callbacks=[es, mc, lr_scheduler]\n",
        "                    )"
      ]
    },
    {
      "cell_type": "markdown",
      "metadata": {
        "id": "aM5I0qwoiUx5"
      },
      "source": [
        "**VISUALIZE TRAINING HISTORY**"
      ]
    },
    {
      "cell_type": "code",
      "execution_count": 21,
      "metadata": {
        "id": "nDsf7Y4AmyEN",
        "outputId": "1280a618-42ea-4313-e0cd-6d4cc91bea0c",
        "colab": {
          "base_uri": "https://localhost:8080/",
          "height": 927
        }
      },
      "outputs": [
        {
          "output_type": "display_data",
          "data": {
            "text/plain": [
              "<Figure size 640x480 with 1 Axes>"
            ],
            "image/png": "[encoded data removed]"
          },
          "metadata": {}
        },
        {
          "output_type": "display_data",
          "data": {
            "text/plain": [
              "<Figure size 640x480 with 1 Axes>"
            ],
            "image/png": "[encoded data removed]"
          },
          "metadata": {}
        }
      ],
      "source": [
        "import matplotlib.pyplot as plt\n",
        "\n",
        "acc=history.history['accuracy']\n",
        "val_acc=history.history['val_accuracy']\n",
        "loss=history.history['loss']\n",
        "val_loss=history.history['val_loss']\n",
        "\n",
        "epochs=range(len(acc)) # Get number of epochs\n",
        "\n",
        "# summarize history for accuracy\n",
        "plt.plot(epochs, acc, 'r')\n",
        "plt.plot(epochs, val_acc, 'b')\n",
        "plt.title('model accuracy')\n",
        "plt.ylabel('accuracy')\n",
        "plt.xlabel('epoch')\n",
        "plt.legend(['Train', 'Validation'], loc='upper left')\n",
        "plt.show()\n",
        "\n",
        "# summarize history for loss\n",
        "plt.plot(epochs, loss, 'r')\n",
        "plt.plot(epochs, val_loss, 'b')\n",
        "plt.title('model loss')\n",
        "plt.ylabel('loss')\n",
        "plt.xlabel('epoch')\n",
        "plt.legend(['Train', 'Validation'], loc='upper left')\n",
        "plt.show()"
      ]
    },
    {
      "cell_type": "code",
      "execution_count": 22,
      "metadata": {
        "id": "oYbxNTOkomHl"
      },
      "outputs": [],
      "source": [
        "import pickle\n",
        "with open('train_history.pkl', 'wb') as f:\n",
        "  pickle.dump(history.history, f)"
      ]
    },
    {
      "cell_type": "code",
      "execution_count": 23,
      "metadata": {
        "id": "zJ5aBulCVkMg",
        "outputId": "410f68aa-54e8-4518-dd95-83a7c7ad6b31",
        "colab": {
          "base_uri": "https://localhost:8080/"
        }
      },
      "outputs": [
        {
          "output_type": "stream",
          "name": "stdout",
          "text": [
            "79/79 [==============================] - 43s 536ms/step - loss: 0.0234 - accuracy: 0.9921\n",
            "7/7 [==============================] - 1s 156ms/step - loss: 0.4974 - accuracy: 0.8900\n",
            "Training Loss: 0.023435359820723534\n",
            "Training Accuracy: 0.9920823574066162\n",
            "Validation Loss: 0.4973633587360382\n",
            "Validation Accuracy: 0.8899999856948853\n"
          ]
        }
      ],
      "source": [
        "  # Evaluate the best model on the training and validation data\n",
        "  from tensorflow.keras.models import load_model\n",
        "\n",
        "  # Load the best model\n",
        "  best_model = load_model('/content/best_model.h5')\n",
        "\n",
        "  # Evaluate the best model on the training and validation data\n",
        "  train_results = best_model.evaluate(train_generator)\n",
        "  val_results = best_model.evaluate(validation_generator)\n",
        "\n",
        "  # Print the evaluation results\n",
        "  print(\"Training Loss:\", train_results[0])\n",
        "  print(\"Training Accuracy:\", train_results[1])\n",
        "  print(\"Validation Loss:\", val_results[0])\n",
        "  print(\"Validation Accuracy:\", val_results[1])"
      ]
    },
    {
      "cell_type": "markdown",
      "metadata": {
        "id": "umnj78HzdAq0"
      },
      "source": [
        "**VISUALIZING PREDICTIONS**"
      ]
    },
    {
      "cell_type": "code",
      "execution_count": 27,
      "metadata": {
        "id": "O_uQU2sIc-do",
        "outputId": "412cf134-3f07-4116-c827-2d9084b9402a",
        "colab": {
          "base_uri": "https://localhost:8080/",
          "height": 904
        }
      },
      "outputs": [
        {
          "output_type": "stream",
          "name": "stdout",
          "text": [
            "79/79 [==============================] - 43s 546ms/step\n",
            "7/7 [==============================] - 1s 151ms/step\n"
          ]
        },
        {
          "output_type": "display_data",
          "data": {
            "text/plain": [
              "<Figure size 1000x500 with 2 Axes>"
            ],
            "image/png": "[encoded data removed]"
          },
          "metadata": {}
        },
        {
          "output_type": "stream",
          "name": "stdout",
          "text": [
            "Training Data Classification Report:\n",
            "              precision    recall  f1-score   support\n",
            "\n",
            "    autistic       0.50      0.50      0.50      1263\n",
            "non-autistic       0.50      0.50      0.50      1263\n",
            "\n",
            "    accuracy                           0.50      2526\n",
            "   macro avg       0.50      0.50      0.50      2526\n",
            "weighted avg       0.50      0.50      0.50      2526\n",
            "\n",
            "Testing Data Classification Report:\n",
            "              precision    recall  f1-score   support\n",
            "\n",
            "    autistic       0.93      0.87      0.90       100\n",
            "non-autistic       0.88      0.93      0.90       100\n",
            "\n",
            "    accuracy                           0.90       200\n",
            "   macro avg       0.90      0.90      0.90       200\n",
            "weighted avg       0.90      0.90      0.90       200\n",
            "\n"
          ]
        }
      ],
      "source": [
        "# Define the classes (labels)\n",
        "classes = ['autistic', 'non-autistic']\n",
        "\n",
        "# Make predictions on training and validation data\n",
        "train_predictions = model.predict(train_generator)\n",
        "test_predictions = model.predict(testing_generator)\n",
        "\n",
        "# Convert the predictions to class labels\n",
        "train_pred_labels = np.round(train_predictions).argmax(axis=1)\n",
        "test_pred_labels = np.round(test_predictions).argmax(axis=1)\n",
        "\n",
        "# Get the true labels for training and validation data\n",
        "train_true_labels = train_generator.classes[:len(train_pred_labels)]\n",
        "test_true_labels = testing_generator.classes[:len(test_pred_labels)]\n",
        "\n",
        "# Create a confusion matrix for training predictions\n",
        "train_cm = confusion_matrix(train_true_labels, train_pred_labels)\n",
        "\n",
        "# Create a confusion matrix for validation predictions\n",
        "test_cm = confusion_matrix(test_true_labels, test_pred_labels)\n",
        "\n",
        "# Plot the confusion matrices with values\n",
        "fig, axes = plt.subplots(1, 2, figsize=(10, 5))\n",
        "axes[0].imshow(train_cm, cmap='Blues')\n",
        "axes[0].set_title('Training Data')\n",
        "axes[0].set_xlabel('Predicted Label')\n",
        "axes[0].set_ylabel('True Label')\n",
        "axes[0].set_xticks(np.arange(len(classes)))\n",
        "axes[0].set_yticks(np.arange(len(classes)))\n",
        "axes[0].set_xticklabels(classes)\n",
        "axes[0].set_yticklabels(classes)\n",
        "plt.setp(axes[0].get_xticklabels(), rotation=45, ha=\"right\")\n",
        "plt.setp(axes[0].get_yticklabels(), rotation=0, ha=\"right\")\n",
        "\n",
        "axes[1].imshow(test_cm, cmap='Blues')\n",
        "axes[1].set_title('Testing Data')\n",
        "axes[1].set_xlabel('Predicted Label')\n",
        "axes[1].set_ylabel('True Label')\n",
        "axes[1].set_xticks(np.arange(len(classes)))\n",
        "axes[1].set_yticks(np.arange(len(classes)))\n",
        "axes[1].set_xticklabels(classes)\n",
        "axes[1].set_yticklabels(classes)\n",
        "plt.setp(axes[1].get_xticklabels(), rotation=45, ha=\"right\")\n",
        "plt.setp(axes[1].get_yticklabels(), rotation=0, ha=\"right\")\n",
        "\n",
        "# Annotate values in the confusion matrices\n",
        "for i in range(len(classes)):\n",
        "    for j in range(len(classes)):\n",
        "        axes[0].text(j, i, train_cm[i, j], ha=\"center\", va=\"center\", color=\"black\")\n",
        "        axes[1].text(j, i, test_cm[i, j], ha=\"center\", va=\"center\", color=\"black\")\n",
        "\n",
        "plt.tight_layout()\n",
        "plt.show()\n",
        "\n",
        "# Print the classification report\n",
        "print(\"Training Data Classification Report:\")\n",
        "print(classification_report(train_true_labels, train_pred_labels, target_names=classes))\n",
        "print(\"Testing Data Classification Report:\")\n",
        "print(classification_report(test_true_labels, test_pred_labels, target_names=classes))"
      ]
    },
    {
      "cell_type": "markdown",
      "metadata": {
        "id": "ei_eYvZ9ildw"
      },
      "source": [
        "**SAVING THE MODEL**"
      ]
    },
    {
      "cell_type": "code",
      "execution_count": 28,
      "metadata": {
        "id": "Iuyc7GHDmnsK"
      },
      "outputs": [],
      "source": [
        "model.save('/content/drive/MyDrive/BANGKITcapstone/best_modelResNetv4.h5')"
      ]
    },
    {
      "cell_type": "code",
      "source": [
        "!pip install tensorflowjs "
      ],
      "metadata": {
        "colab": {
          "base_uri": "https://localhost:8080/",
          "height": 1000
        },
        "id": "i99TAN3jEpdW",
        "outputId": "530a4595-a6ae-4f8b-f451-b2c3b722009a"
      },
      "execution_count": 29,
      "outputs": [
        {
          "output_type": "stream",
          "name": "stdout",
          "text": [
            "Looking in indexes: https://pypi.org/simple, https://us-python.pkg.dev/colab-wheels/public/simple/\n",
            "Collecting tensorflowjs\n",
            "  Downloading tensorflowjs-4.7.0-py3-none-any.whl (85 kB)\n",
            "\u001b[2K     \u001b[90m━━━━━━━━━━━━━━━━━━━━━━━━━━━━━━━━━━━━━━━━\u001b[0m \u001b[32m85.1/85.1 kB\u001b[0m \u001b[31m3.6 MB/s\u001b[0m eta \u001b[36m0:00:00\u001b[0m\n",
            "\u001b[?25hCollecting flax<0.6.3,>=0.6.2 (from tensorflowjs)\n",
            "  Downloading flax-0.6.2-py3-none-any.whl (189 kB)\n",
            "\u001b[2K     \u001b[90m━━━━━━━━━━━━━━━━━━━━━━━━━━━━━━━━━━━━━━\u001b[0m \u001b[32m189.9/189.9 kB\u001b[0m \u001b[31m11.4 MB/s\u001b[0m eta \u001b[36m0:00:00\u001b[0m\n",
            "\u001b[?25hRequirement already satisfied: importlib_resources>=5.9.0 in /usr/local/lib/python3.10/dist-packages (from tensorflowjs) (5.12.0)\n",
            "Requirement already satisfied: jax>=0.3.16 in /usr/local/lib/python3.10/dist-packages (from tensorflowjs) (0.4.10)\n",
            "Requirement already satisfied: tensorflow<3,>=2.12.0 in /usr/local/lib/python3.10/dist-packages (from tensorflowjs) (2.12.0)\n",
            "Collecting tensorflow-decision-forests>=1.3.0 (from tensorflowjs)\n",
            "  Downloading tensorflow_decision_forests-1.3.0-cp310-cp310-manylinux_2_17_x86_64.manylinux2014_x86_64.whl (16.4 MB)\n",
            "\u001b[2K     \u001b[90m━━━━━━━━━━━━━━━━━━━━━━━━━━━━━━━━━━━━━━━━\u001b[0m \u001b[32m16.4/16.4 MB\u001b[0m \u001b[31m70.1 MB/s\u001b[0m eta \u001b[36m0:00:00\u001b[0m\n",
            "\u001b[?25hRequirement already satisfied: six<2,>=1.12.0 in /usr/local/lib/python3.10/dist-packages (from tensorflowjs) (1.16.0)\n",
            "Requirement already satisfied: tensorflow-hub>=0.13.0 in /usr/local/lib/python3.10/dist-packages (from tensorflowjs) (0.13.0)\n",
            "Collecting packaging~=20.9 (from tensorflowjs)\n",
            "  Downloading packaging-20.9-py2.py3-none-any.whl (40 kB)\n",
            "\u001b[2K     \u001b[90m━━━━━━━━━━━━━━━━━━━━━━━━━━━━━━━━━━━━━━━━\u001b[0m \u001b[32m40.9/40.9 kB\u001b[0m \u001b[31m5.0 MB/s\u001b[0m eta \u001b[36m0:00:00\u001b[0m\n",
            "\u001b[?25hRequirement already satisfied: numpy>=1.12 in /usr/local/lib/python3.10/dist-packages (from flax<0.6.3,>=0.6.2->tensorflowjs) (1.22.4)\n",
            "Requirement already satisfied: matplotlib in /usr/local/lib/python3.10/dist-packages (from flax<0.6.3,>=0.6.2->tensorflowjs) (3.7.1)\n",
            "Requirement already satisfied: msgpack in /usr/local/lib/python3.10/dist-packages (from flax<0.6.3,>=0.6.2->tensorflowjs) (1.0.5)\n",
            "Requirement already satisfied: optax in /usr/local/lib/python3.10/dist-packages (from flax<0.6.3,>=0.6.2->tensorflowjs) (0.1.5)\n",
            "Requirement already satisfied: tensorstore in /usr/local/lib/python3.10/dist-packages (from flax<0.6.3,>=0.6.2->tensorflowjs) (0.1.36)\n",
            "Requirement already satisfied: rich>=11.1 in /usr/local/lib/python3.10/dist-packages (from flax<0.6.3,>=0.6.2->tensorflowjs) (13.3.4)\n",
            "Requirement already satisfied: typing-extensions>=4.1.1 in /usr/local/lib/python3.10/dist-packages (from flax<0.6.3,>=0.6.2->tensorflowjs) (4.5.0)\n",
            "Requirement already satisfied: PyYAML>=5.4.1 in /usr/local/lib/python3.10/dist-packages (from flax<0.6.3,>=0.6.2->tensorflowjs) (6.0)\n",
            "Requirement already satisfied: ml-dtypes>=0.1.0 in /usr/local/lib/python3.10/dist-packages (from jax>=0.3.16->tensorflowjs) (0.1.0)\n",
            "Requirement already satisfied: opt-einsum in /usr/local/lib/python3.10/dist-packages (from jax>=0.3.16->tensorflowjs) (3.3.0)\n",
            "Requirement already satisfied: scipy>=1.7 in /usr/local/lib/python3.10/dist-packages (from jax>=0.3.16->tensorflowjs) (1.10.1)\n",
            "Requirement already satisfied: pyparsing>=2.0.2 in /usr/local/lib/python3.10/dist-packages (from packaging~=20.9->tensorflowjs) (3.0.9)\n",
            "Requirement already satisfied: absl-py>=1.0.0 in /usr/local/lib/python3.10/dist-packages (from tensorflow<3,>=2.12.0->tensorflowjs) (1.4.0)\n",
            "Requirement already satisfied: astunparse>=1.6.0 in /usr/local/lib/python3.10/dist-packages (from tensorflow<3,>=2.12.0->tensorflowjs) (1.6.3)\n",
            "Requirement already satisfied: flatbuffers>=2.0 in /usr/local/lib/python3.10/dist-packages (from tensorflow<3,>=2.12.0->tensorflowjs) (23.3.3)\n",
            "Requirement already satisfied: gast<=0.4.0,>=0.2.1 in /usr/local/lib/python3.10/dist-packages (from tensorflow<3,>=2.12.0->tensorflowjs) (0.4.0)\n",
            "Requirement already satisfied: google-pasta>=0.1.1 in /usr/local/lib/python3.10/dist-packages (from tensorflow<3,>=2.12.0->tensorflowjs) (0.2.0)\n",
            "Requirement already satisfied: grpcio<2.0,>=1.24.3 in /usr/local/lib/python3.10/dist-packages (from tensorflow<3,>=2.12.0->tensorflowjs) (1.54.0)\n",
            "Requirement already satisfied: h5py>=2.9.0 in /usr/local/lib/python3.10/dist-packages (from tensorflow<3,>=2.12.0->tensorflowjs) (3.8.0)\n",
            "Requirement already satisfied: keras<2.13,>=2.12.0 in /usr/local/lib/python3.10/dist-packages (from tensorflow<3,>=2.12.0->tensorflowjs) (2.12.0)\n",
            "Requirement already satisfied: libclang>=13.0.0 in /usr/local/lib/python3.10/dist-packages (from tensorflow<3,>=2.12.0->tensorflowjs) (16.0.0)\n",
            "Requirement already satisfied: protobuf!=4.21.0,!=4.21.1,!=4.21.2,!=4.21.3,!=4.21.4,!=4.21.5,<5.0.0dev,>=3.20.3 in /usr/local/lib/python3.10/dist-packages (from tensorflow<3,>=2.12.0->tensorflowjs) (3.20.3)\n",
            "Requirement already satisfied: setuptools in /usr/local/lib/python3.10/dist-packages (from tensorflow<3,>=2.12.0->tensorflowjs) (67.7.2)\n",
            "Requirement already satisfied: tensorboard<2.13,>=2.12 in /usr/local/lib/python3.10/dist-packages (from tensorflow<3,>=2.12.0->tensorflowjs) (2.12.2)\n",
            "Requirement already satisfied: tensorflow-estimator<2.13,>=2.12.0 in /usr/local/lib/python3.10/dist-packages (from tensorflow<3,>=2.12.0->tensorflowjs) (2.12.0)\n",
            "Requirement already satisfied: termcolor>=1.1.0 in /usr/local/lib/python3.10/dist-packages (from tensorflow<3,>=2.12.0->tensorflowjs) (2.3.0)\n",
            "Requirement already satisfied: wrapt<1.15,>=1.11.0 in /usr/local/lib/python3.10/dist-packages (from tensorflow<3,>=2.12.0->tensorflowjs) (1.14.1)\n",
            "Requirement already satisfied: tensorflow-io-gcs-filesystem>=0.23.1 in /usr/local/lib/python3.10/dist-packages (from tensorflow<3,>=2.12.0->tensorflowjs) (0.32.0)\n",
            "Requirement already satisfied: pandas in /usr/local/lib/python3.10/dist-packages (from tensorflow-decision-forests>=1.3.0->tensorflowjs) (1.5.3)\n",
            "Requirement already satisfied: wheel in /usr/local/lib/python3.10/dist-packages (from tensorflow-decision-forests>=1.3.0->tensorflowjs) (0.40.0)\n",
            "Collecting wurlitzer (from tensorflow-decision-forests>=1.3.0->tensorflowjs)\n",
            "  Downloading wurlitzer-3.0.3-py3-none-any.whl (7.3 kB)\n",
            "Requirement already satisfied: markdown-it-py<3.0.0,>=2.2.0 in /usr/local/lib/python3.10/dist-packages (from rich>=11.1->flax<0.6.3,>=0.6.2->tensorflowjs) (2.2.0)\n",
            "Requirement already satisfied: pygments<3.0.0,>=2.13.0 in /usr/local/lib/python3.10/dist-packages (from rich>=11.1->flax<0.6.3,>=0.6.2->tensorflowjs) (2.14.0)\n",
            "Requirement already satisfied: google-auth<3,>=1.6.3 in /usr/local/lib/python3.10/dist-packages (from tensorboard<2.13,>=2.12->tensorflow<3,>=2.12.0->tensorflowjs) (2.17.3)\n",
            "Requirement already satisfied: google-auth-oauthlib<1.1,>=0.5 in /usr/local/lib/python3.10/dist-packages (from tensorboard<2.13,>=2.12->tensorflow<3,>=2.12.0->tensorflowjs) (1.0.0)\n",
            "Requirement already satisfied: markdown>=2.6.8 in /usr/local/lib/python3.10/dist-packages (from tensorboard<2.13,>=2.12->tensorflow<3,>=2.12.0->tensorflowjs) (3.4.3)\n",
            "Requirement already satisfied: requests<3,>=2.21.0 in /usr/local/lib/python3.10/dist-packages (from tensorboard<2.13,>=2.12->tensorflow<3,>=2.12.0->tensorflowjs) (2.27.1)\n",
            "Requirement already satisfied: tensorboard-data-server<0.8.0,>=0.7.0 in /usr/local/lib/python3.10/dist-packages (from tensorboard<2.13,>=2.12->tensorflow<3,>=2.12.0->tensorflowjs) (0.7.0)\n",
            "Requirement already satisfied: tensorboard-plugin-wit>=1.6.0 in /usr/local/lib/python3.10/dist-packages (from tensorboard<2.13,>=2.12->tensorflow<3,>=2.12.0->tensorflowjs) (1.8.1)\n",
            "Requirement already satisfied: werkzeug>=1.0.1 in /usr/local/lib/python3.10/dist-packages (from tensorboard<2.13,>=2.12->tensorflow<3,>=2.12.0->tensorflowjs) (2.3.0)\n",
            "Requirement already satisfied: contourpy>=1.0.1 in /usr/local/lib/python3.10/dist-packages (from matplotlib->flax<0.6.3,>=0.6.2->tensorflowjs) (1.0.7)\n",
            "Requirement already satisfied: cycler>=0.10 in /usr/local/lib/python3.10/dist-packages (from matplotlib->flax<0.6.3,>=0.6.2->tensorflowjs) (0.11.0)\n",
            "Requirement already satisfied: fonttools>=4.22.0 in /usr/local/lib/python3.10/dist-packages (from matplotlib->flax<0.6.3,>=0.6.2->tensorflowjs) (4.39.3)\n",
            "Requirement already satisfied: kiwisolver>=1.0.1 in /usr/local/lib/python3.10/dist-packages (from matplotlib->flax<0.6.3,>=0.6.2->tensorflowjs) (1.4.4)\n",
            "Requirement already satisfied: pillow>=6.2.0 in /usr/local/lib/python3.10/dist-packages (from matplotlib->flax<0.6.3,>=0.6.2->tensorflowjs) (8.4.0)\n",
            "Requirement already satisfied: python-dateutil>=2.7 in /usr/local/lib/python3.10/dist-packages (from matplotlib->flax<0.6.3,>=0.6.2->tensorflowjs) (2.8.2)\n",
            "Requirement already satisfied: chex>=0.1.5 in /usr/local/lib/python3.10/dist-packages (from optax->flax<0.6.3,>=0.6.2->tensorflowjs) (0.1.7)\n",
            "Requirement already satisfied: jaxlib>=0.1.37 in /usr/local/lib/python3.10/dist-packages (from optax->flax<0.6.3,>=0.6.2->tensorflowjs) (0.4.10+cuda11.cudnn86)\n",
            "Requirement already satisfied: pytz>=2020.1 in /usr/local/lib/python3.10/dist-packages (from pandas->tensorflow-decision-forests>=1.3.0->tensorflowjs) (2022.7.1)\n",
            "Requirement already satisfied: dm-tree>=0.1.5 in /usr/local/lib/python3.10/dist-packages (from chex>=0.1.5->optax->flax<0.6.3,>=0.6.2->tensorflowjs) (0.1.8)\n",
            "Requirement already satisfied: toolz>=0.9.0 in /usr/local/lib/python3.10/dist-packages (from chex>=0.1.5->optax->flax<0.6.3,>=0.6.2->tensorflowjs) (0.12.0)\n",
            "Requirement already satisfied: cachetools<6.0,>=2.0.0 in /usr/local/lib/python3.10/dist-packages (from google-auth<3,>=1.6.3->tensorboard<2.13,>=2.12->tensorflow<3,>=2.12.0->tensorflowjs) (5.3.0)\n",
            "Requirement already satisfied: pyasn1-modules>=0.2.1 in /usr/local/lib/python3.10/dist-packages (from google-auth<3,>=1.6.3->tensorboard<2.13,>=2.12->tensorflow<3,>=2.12.0->tensorflowjs) (0.3.0)\n",
            "Requirement already satisfied: rsa<5,>=3.1.4 in /usr/local/lib/python3.10/dist-packages (from google-auth<3,>=1.6.3->tensorboard<2.13,>=2.12->tensorflow<3,>=2.12.0->tensorflowjs) (4.9)\n",
            "Requirement already satisfied: requests-oauthlib>=0.7.0 in /usr/local/lib/python3.10/dist-packages (from google-auth-oauthlib<1.1,>=0.5->tensorboard<2.13,>=2.12->tensorflow<3,>=2.12.0->tensorflowjs) (1.3.1)\n",
            "Requirement already satisfied: mdurl~=0.1 in /usr/local/lib/python3.10/dist-packages (from markdown-it-py<3.0.0,>=2.2.0->rich>=11.1->flax<0.6.3,>=0.6.2->tensorflowjs) (0.1.2)\n",
            "Requirement already satisfied: urllib3<1.27,>=1.21.1 in /usr/local/lib/python3.10/dist-packages (from requests<3,>=2.21.0->tensorboard<2.13,>=2.12->tensorflow<3,>=2.12.0->tensorflowjs) (1.26.15)\n",
            "Requirement already satisfied: certifi>=2017.4.17 in /usr/local/lib/python3.10/dist-packages (from requests<3,>=2.21.0->tensorboard<2.13,>=2.12->tensorflow<3,>=2.12.0->tensorflowjs) (2022.12.7)\n",
            "Requirement already satisfied: charset-normalizer~=2.0.0 in /usr/local/lib/python3.10/dist-packages (from requests<3,>=2.21.0->tensorboard<2.13,>=2.12->tensorflow<3,>=2.12.0->tensorflowjs) (2.0.12)\n",
            "Requirement already satisfied: idna<4,>=2.5 in /usr/local/lib/python3.10/dist-packages (from requests<3,>=2.21.0->tensorboard<2.13,>=2.12->tensorflow<3,>=2.12.0->tensorflowjs) (3.4)\n",
            "Requirement already satisfied: MarkupSafe>=2.1.1 in /usr/local/lib/python3.10/dist-packages (from werkzeug>=1.0.1->tensorboard<2.13,>=2.12->tensorflow<3,>=2.12.0->tensorflowjs) (2.1.2)\n",
            "Requirement already satisfied: pyasn1<0.6.0,>=0.4.6 in /usr/local/lib/python3.10/dist-packages (from pyasn1-modules>=0.2.1->google-auth<3,>=1.6.3->tensorboard<2.13,>=2.12->tensorflow<3,>=2.12.0->tensorflowjs) (0.5.0)\n",
            "Requirement already satisfied: oauthlib>=3.0.0 in /usr/local/lib/python3.10/dist-packages (from requests-oauthlib>=0.7.0->google-auth-oauthlib<1.1,>=0.5->tensorboard<2.13,>=2.12->tensorflow<3,>=2.12.0->tensorflowjs) (3.2.2)\n",
            "Installing collected packages: wurlitzer, packaging, flax, tensorflow-decision-forests, tensorflowjs\n",
            "  Attempting uninstall: packaging\n",
            "    Found existing installation: packaging 23.1\n",
            "    Uninstalling packaging-23.1:\n",
            "      Successfully uninstalled packaging-23.1\n",
            "  Attempting uninstall: flax\n",
            "    Found existing installation: flax 0.6.9\n",
            "    Uninstalling flax-0.6.9:\n",
            "      Successfully uninstalled flax-0.6.9\n",
            "\u001b[31mERROR: pip's dependency resolver does not currently take into account all the packages that are installed. This behaviour is the source of the following dependency conflicts.\n",
            "statsmodels 0.13.5 requires packaging>=21.3, but you have packaging 20.9 which is incompatible.\n",
            "xarray 2022.12.0 requires packaging>=21.3, but you have packaging 20.9 which is incompatible.\u001b[0m\u001b[31m\n",
            "\u001b[0mSuccessfully installed flax-0.6.2 packaging-20.9 tensorflow-decision-forests-1.3.0 tensorflowjs-4.7.0 wurlitzer-3.0.3\n"
          ]
        },
        {
          "output_type": "display_data",
          "data": {
            "application/vnd.colab-display-data+json": {
              "pip_warning": {
                "packages": [
                  "packaging"
                ]
              }
            }
          },
          "metadata": {}
        }
      ]
    },
    {
      "cell_type": "code",
      "execution_count": 30,
      "metadata": {
        "id": "UC8L1vP6oXha"
      },
      "outputs": [],
      "source": [
        "!mkdir modelResnetv4 "
      ]
    },
    {
      "cell_type": "code",
      "execution_count": 31,
      "metadata": {
        "id": "eVeeZLOWoXor",
        "colab": {
          "base_uri": "https://localhost:8080/"
        },
        "outputId": "e768cc41-842b-4e5e-b381-450a9e31560d"
      },
      "outputs": [
        {
          "output_type": "stream",
          "name": "stdout",
          "text": [
            "2023-06-12 16:28:26.888017: W tensorflow/compiler/tf2tensorrt/utils/py_utils.cc:38] TF-TRT Warning: Could not find TensorRT\n"
          ]
        }
      ],
      "source": [
        "!tensorflowjs_converter --input_format keras best_model.h5 modelResnetv4/"
      ]
    },
    {
      "cell_type": "code",
      "execution_count": 32,
      "metadata": {
        "id": "HkGTcrOvzXr-",
        "colab": {
          "base_uri": "https://localhost:8080/"
        },
        "outputId": "472ea1a7-aef3-456a-db2c-b47546dbbaa4"
      },
      "outputs": [
        {
          "output_type": "stream",
          "name": "stdout",
          "text": [
            "  adding: modelResnetv4/ (stored 0%)\n",
            "  adding: modelResnetv4/group1-shard14of23.bin (deflated 7%)\n",
            "  adding: modelResnetv4/group1-shard12of23.bin (deflated 7%)\n",
            "  adding: modelResnetv4/group1-shard10of23.bin (deflated 7%)\n",
            "  adding: modelResnetv4/group1-shard13of23.bin (deflated 7%)\n",
            "  adding: modelResnetv4/group1-shard18of23.bin (deflated 7%)\n",
            "  adding: modelResnetv4/group1-shard16of23.bin (deflated 7%)\n",
            "  adding: modelResnetv4/group1-shard7of23.bin (deflated 7%)\n",
            "  adding: modelResnetv4/group1-shard22of23.bin (deflated 7%)\n",
            "  adding: modelResnetv4/group1-shard5of23.bin (deflated 7%)\n",
            "  adding: modelResnetv4/group1-shard11of23.bin (deflated 7%)\n",
            "  adding: modelResnetv4/group1-shard4of23.bin (deflated 7%)\n",
            "  adding: modelResnetv4/model.json (deflated 96%)\n",
            "  adding: modelResnetv4/group1-shard2of23.bin (deflated 7%)\n",
            "  adding: modelResnetv4/group1-shard20of23.bin (deflated 7%)\n",
            "  adding: modelResnetv4/group1-shard15of23.bin (deflated 8%)\n",
            "  adding: modelResnetv4/group1-shard23of23.bin (deflated 7%)\n",
            "  adding: modelResnetv4/group1-shard21of23.bin (deflated 7%)\n",
            "  adding: modelResnetv4/group1-shard17of23.bin (deflated 7%)\n",
            "  adding: modelResnetv4/group1-shard9of23.bin (deflated 7%)\n",
            "  adding: modelResnetv4/group1-shard1of23.bin (deflated 7%)\n",
            "  adding: modelResnetv4/group1-shard3of23.bin (deflated 7%)\n",
            "  adding: modelResnetv4/group1-shard6of23.bin (deflated 7%)\n",
            "  adding: modelResnetv4/group1-shard8of23.bin (deflated 7%)\n",
            "  adding: modelResnetv4/group1-shard19of23.bin (deflated 7%)\n"
          ]
        }
      ],
      "source": [
        "!zip -r modelResnetv4.zip modelResnetv4"
      ]
    },
    {
      "cell_type": "code",
      "execution_count": 33,
      "metadata": {
        "id": "OumPxzIjoVfe",
        "colab": {
          "base_uri": "https://localhost:8080/",
          "height": 17
        },
        "outputId": "582509c0-645f-48b8-95d2-6ab81ca9968f"
      },
      "outputs": [
        {
          "output_type": "display_data",
          "data": {
            "text/plain": [
              "<IPython.core.display.Javascript object>"
            ],
            "application/javascript": [
              "\n",
              "    async function download(id, filename, size) {\n",
              "      if (!google.colab.kernel.accessAllowed) {\n",
              "        return;\n",
              "      }\n",
              "      const div = document.createElement('div');\n",
              "      const label = document.createElement('label');\n",
              "      label.textContent = `Downloading \"${filename}\": `;\n",
              "      div.appendChild(label);\n",
              "      const progress = document.createElement('progress');\n",
              "      progress.max = size;\n",
              "      div.appendChild(progress);\n",
              "      document.body.appendChild(div);\n",
              "\n",
              "      const buffers = [];\n",
              "      let downloaded = 0;\n",
              "\n",
              "      const channel = await google.colab.kernel.comms.open(id);\n",
              "      // Send a message to notify the kernel that we're ready.\n",
              "      channel.send({})\n",
              "\n",
              "      for await (const message of channel.messages) {\n",
              "        // Send a message to notify the kernel that we're ready.\n",
              "        channel.send({})\n",
              "        if (message.buffers) {\n",
              "          for (const buffer of message.buffers) {\n",
              "            buffers.push(buffer);\n",
              "            downloaded += buffer.byteLength;\n",
              "            progress.value = downloaded;\n",
              "          }\n",
              "        }\n",
              "      }\n",
              "      const blob = new Blob(buffers, {type: 'application/binary'});\n",
              "      const a = document.createElement('a');\n",
              "      a.href = window.URL.createObjectURL(blob);\n",
              "      a.download = filename;\n",
              "      div.appendChild(a);\n",
              "      a.click();\n",
              "      div.remove();\n",
              "    }\n",
              "  "
            ]
          },
          "metadata": {}
        },
        {
          "output_type": "display_data",
          "data": {
            "text/plain": [
              "<IPython.core.display.Javascript object>"
            ],
            "application/javascript": [
              "download(\"download_3497990a-4f24-4a1f-9ebf-13433f609099\", \"modelResnetv4.zip\", 89464574)"
            ]
          },
          "metadata": {}
        }
      ],
      "source": [
        "from google.colab import files\n",
        "files.download('modelResnetv4.zip')"
      ]
    },
    {
      "cell_type": "code",
      "execution_count": 34,
      "metadata": {
        "id": "wkoH7zzr5sSw",
        "colab": {
          "base_uri": "https://localhost:8080/"
        },
        "outputId": "9b324598-ecb2-43e3-d779-288ed272e654"
      },
      "outputs": [
        {
          "output_type": "stream",
          "name": "stderr",
          "text": [
            "WARNING:absl:Found untraced functions such as _update_step_xla, _jit_compiled_convolution_op, _jit_compiled_convolution_op, _jit_compiled_convolution_op, _jit_compiled_convolution_op while saving (showing 5 of 54). These functions will not be directly callable after loading.\n"
          ]
        }
      ],
      "source": [
        "model = tf.keras.models.load_model('/content/best_model.h5')\n",
        "converter = tf.lite.TFLiteConverter.from_keras_model(model)\n",
        "tflite_model = converter.convert()"
      ]
    },
    {
      "cell_type": "code",
      "execution_count": 35,
      "metadata": {
        "id": "H0El_-aL4mLP"
      },
      "outputs": [],
      "source": [
        "with open('modelResnetv4.tflite', 'wb') as f:\n",
        "    f.write(tflite_model)\n"
      ]
    },
    {
      "cell_type": "code",
      "execution_count": 36,
      "metadata": {
        "id": "d-pabKMj5Hcn",
        "colab": {
          "base_uri": "https://localhost:8080/",
          "height": 17
        },
        "outputId": "76f562d1-e409-4821-9a50-c598b4d24dc5"
      },
      "outputs": [
        {
          "output_type": "display_data",
          "data": {
            "text/plain": [
              "<IPython.core.display.Javascript object>"
            ],
            "application/javascript": [
              "\n",
              "    async function download(id, filename, size) {\n",
              "      if (!google.colab.kernel.accessAllowed) {\n",
              "        return;\n",
              "      }\n",
              "      const div = document.createElement('div');\n",
              "      const label = document.createElement('label');\n",
              "      label.textContent = `Downloading \"${filename}\": `;\n",
              "      div.appendChild(label);\n",
              "      const progress = document.createElement('progress');\n",
              "      progress.max = size;\n",
              "      div.appendChild(progress);\n",
              "      document.body.appendChild(div);\n",
              "\n",
              "      const buffers = [];\n",
              "      let downloaded = 0;\n",
              "\n",
              "      const channel = await google.colab.kernel.comms.open(id);\n",
              "      // Send a message to notify the kernel that we're ready.\n",
              "      channel.send({})\n",
              "\n",
              "      for await (const message of channel.messages) {\n",
              "        // Send a message to notify the kernel that we're ready.\n",
              "        channel.send({})\n",
              "        if (message.buffers) {\n",
              "          for (const buffer of message.buffers) {\n",
              "            buffers.push(buffer);\n",
              "            downloaded += buffer.byteLength;\n",
              "            progress.value = downloaded;\n",
              "          }\n",
              "        }\n",
              "      }\n",
              "      const blob = new Blob(buffers, {type: 'application/binary'});\n",
              "      const a = document.createElement('a');\n",
              "      a.href = window.URL.createObjectURL(blob);\n",
              "      a.download = filename;\n",
              "      div.appendChild(a);\n",
              "      a.click();\n",
              "      div.remove();\n",
              "    }\n",
              "  "
            ]
          },
          "metadata": {}
        },
        {
          "output_type": "display_data",
          "data": {
            "text/plain": [
              "<IPython.core.display.Javascript object>"
            ],
            "application/javascript": [
              "download(\"download_3f34ad7b-d379-4b19-bf89-e5f9160fec02\", \"train_history.pkl\", 1955)"
            ]
          },
          "metadata": {}
        }
      ],
      "source": [
        "from google.colab import files\n",
        "files.download('train_history.pkl')"
      ]
    },
    {
      "cell_type": "code",
      "source": [
        "from google.colab import files\n",
        "files.download('modelResnetv4.tflite')"
      ],
      "metadata": {
        "id": "obpYokfwIniX",
        "outputId": "f3354214-ea3b-469c-8414-1fcd4a2db902",
        "colab": {
          "base_uri": "https://localhost:8080/",
          "height": 17
        }
      },
      "execution_count": 37,
      "outputs": [
        {
          "output_type": "display_data",
          "data": {
            "text/plain": [
              "<IPython.core.display.Javascript object>"
            ],
            "application/javascript": [
              "\n",
              "    async function download(id, filename, size) {\n",
              "      if (!google.colab.kernel.accessAllowed) {\n",
              "        return;\n",
              "      }\n",
              "      const div = document.createElement('div');\n",
              "      const label = document.createElement('label');\n",
              "      label.textContent = `Downloading \"${filename}\": `;\n",
              "      div.appendChild(label);\n",
              "      const progress = document.createElement('progress');\n",
              "      progress.max = size;\n",
              "      div.appendChild(progress);\n",
              "      document.body.appendChild(div);\n",
              "\n",
              "      const buffers = [];\n",
              "      let downloaded = 0;\n",
              "\n",
              "      const channel = await google.colab.kernel.comms.open(id);\n",
              "      // Send a message to notify the kernel that we're ready.\n",
              "      channel.send({})\n",
              "\n",
              "      for await (const message of channel.messages) {\n",
              "        // Send a message to notify the kernel that we're ready.\n",
              "        channel.send({})\n",
              "        if (message.buffers) {\n",
              "          for (const buffer of message.buffers) {\n",
              "            buffers.push(buffer);\n",
              "            downloaded += buffer.byteLength;\n",
              "            progress.value = downloaded;\n",
              "          }\n",
              "        }\n",
              "      }\n",
              "      const blob = new Blob(buffers, {type: 'application/binary'});\n",
              "      const a = document.createElement('a');\n",
              "      a.href = window.URL.createObjectURL(blob);\n",
              "      a.download = filename;\n",
              "      div.appendChild(a);\n",
              "      a.click();\n",
              "      div.remove();\n",
              "    }\n",
              "  "
            ]
          },
          "metadata": {}
        },
        {
          "output_type": "display_data",
          "data": {
            "text/plain": [
              "<IPython.core.display.Javascript object>"
            ],
            "application/javascript": [
              "download(\"download_a07e72ca-6273-402c-bfaa-faeaa8abd632\", \"modelResnetv4.tflite\", 96080360)"
            ]
          },
          "metadata": {}
        }
      ]
    }
  ],
  "metadata": {
    "accelerator": "GPU",
    "colab": {
      "provenance": []
    },
    "kernelspec": {
      "display_name": "Python 3",
      "name": "python3"
    },
    "language_info": {
      "name": "python"
    }
  },
  "nbformat": 4,
  "nbformat_minor": 0
}